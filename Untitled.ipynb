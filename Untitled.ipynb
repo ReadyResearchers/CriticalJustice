{
 "cells": [
  {
   "cell_type": "code",
   "execution_count": 1,
   "id": "f0071b99-7677-4aaf-91de-ed8abf080c4e",
   "metadata": {},
   "outputs": [
    {
     "name": "stdout",
     "output_type": "stream",
     "text": [
      "Database is created\n"
     ]
    }
   ],
   "source": [
    "#!/usr/bin/env python\n",
    "# coding: utf-8\n",
    "\n",
    "# In[ ]:\n",
    "\n",
    "\n",
    "import mysql.connector as msql\n",
    "from mysql.connector import Error\n",
    "import pandas as pd\n",
    "\n",
    "empdata = pd.read_csv('/home/ojof/Documents/COMP/CriticalJustice/data/911_Data.csv', index_col=False, delimiter = ',')\n",
    "empdata.head()\n",
    "\n",
    "try:\n",
    "    conn = msql.connect(host='localhost', user ='favour',\n",
    "    password ='babies410')\n",
    "    if conn.is_connected():\n",
    "        cursor = conn.cursor()\n",
    "        cursor.execute(\"CREATE DATABASE EMS\")\n",
    "        print(\"Database is created\")\n",
    "except Error as e:\n",
    "    print(\"Error while connecting to MySQL\", e)\n",
    "    \n",
    "try: \n",
    "    conn = msql.connect(host='localhost', database='EMS', user='favour',\n",
    "    password='babies410')\n",
    "    if conn.is_connected():\n",
    "        cursor = conn.cursor()\n",
    "        cursor.execute(\"Select Database();\")\n",
    "        recrod = cursosr.fetchone()\n",
    "        print(\"You're connected to database: \", record)\n",
    "        cursor.execute('DROP TABLE IF EXISTS EMSData;')\n",
    "        print(\"Creating table....\")\n",
    "        cursor.execute(\"CREATE TABLE EMSData(service varchar(255), priority varchar(255), pritority_desc varchar(255), call_year integer(255),  \n",
    "        \n",
    "        \n",
    "\n"
   ]
  },
  {
   "cell_type": "code",
   "execution_count": null,
   "id": "6cda22de-06cd-4dd4-beae-bd4eb23bbe9f",
   "metadata": {},
   "outputs": [],
   "source": []
  }
 ],
 "metadata": {
  "kernelspec": {
   "display_name": "Python 3 (ipykernel)",
   "language": "python",
   "name": "python3"
  },
  "language_info": {
   "codemirror_mode": {
    "name": "ipython",
    "version": 3
   },
   "file_extension": ".py",
   "mimetype": "text/x-python",
   "name": "python",
   "nbconvert_exporter": "python",
   "pygments_lexer": "ipython3",
   "version": "3.10.6"
  }
 },
 "nbformat": 4,
 "nbformat_minor": 5
}
